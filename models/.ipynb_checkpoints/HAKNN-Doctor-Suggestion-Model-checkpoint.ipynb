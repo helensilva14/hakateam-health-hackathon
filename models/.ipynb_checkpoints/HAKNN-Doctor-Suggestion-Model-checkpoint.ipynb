{
 "cells": [
  {
   "cell_type": "code",
   "execution_count": 1,
   "metadata": {},
   "outputs": [],
   "source": [
    "import pandas as pd\n",
    "import numpy as np\n",
    "\n",
    "%matplotlib inline\n",
    "import matplotlib.pyplot as plt\n",
    "\n",
    "from sklearn.preprocessing import LabelEncoder\n",
    "from sklearn.neighbors import KNeighborsClassifier\n",
    "import json"
   ]
  },
  {
   "cell_type": "markdown",
   "metadata": {},
   "source": [
    "__Obs.: The justification for a recommender system-like other than matrix \n",
    "factorization is due to the fact that attendance to physicians\n",
    "are of a different nature than those of a Netflix consumer behavior.\n",
    "Besides, characterizing what would constitute similar doctors\n",
    "is a challenge in itself.__"
   ]
  },
  {
   "cell_type": "markdown",
   "metadata": {},
   "source": [
    "## Data preprocessing"
   ]
  },
  {
   "cell_type": "code",
   "execution_count": 2,
   "metadata": {
    "scrolled": true
   },
   "outputs": [],
   "source": [
    "def read_json_dataset(archive):\n",
    "    '''\n",
    "    Reading the JSON file refering to datasets.\n",
    "    '''\n",
    "    openfile=open('{}'.format(archive))\n",
    "    jsondata=json.load(openfile)\n",
    "    dt= pd.DataFrame(jsondata)\n",
    "    openfile.close()\n",
    "    return dt\n",
    "\n",
    "def query(doctors,specialty):\n",
    "    '''\n",
    "    Querying the json file for the specialty required by the patient.\n",
    "    '''\n",
    "    return doctors[doctors['Specialty'] == specialty]\n",
    "\n",
    "def encoding(data):\n",
    "    '''\n",
    "    Encoding categorical features as numerical features.\n",
    "    '''\n",
    "    df = data.copy()\n",
    "    le = LabelEncoder()\n",
    "    var_to_encode = ['Health Insurance - Plan','Gender'] #only these features need to be encoded.\n",
    "    for key in var_to_encode:\n",
    "        df[key] = le.fit_transform(df[key])\n",
    "    return df\n",
    "\n",
    "'''[TO DO] Apply feature scalling after data encoding.'''\n",
    "\n",
    "def calc_knn(data_, patient_characteristics):\n",
    "    '''\n",
    "    Calculating the 5-NN consultations to predict the suggested doctor for the given patient profile. \n",
    "    '''\n",
    "    \n",
    "    def prepare(data_to_prep):\n",
    "        '''\n",
    "        Separating columns used to predicte and encode.\n",
    "        '''\n",
    "        to_pred = ['Health Insurance - Plan','Latitude','Longitude','Patient Age','Gender']\n",
    "        dff = encoding(data_to_prep[to_pred]) \n",
    "        return dff\n",
    "    \n",
    "    dfx = prepare(data_)\n",
    "    doctor_label = 'Doctor'\n",
    "    dfy = data_[doctor_label]\n",
    "    \n",
    "    knn = KNeighborsClassifier(n_neighbors=5)\n",
    "    knn.fit(dfx,dfy)    \n",
    "\n",
    "    doctor = knn.predict(prepare(patient_characteristics))\n",
    "    return doctor"
   ]
  },
  {
   "cell_type": "markdown",
   "metadata": {},
   "source": [
    "## Loading datasets"
   ]
  },
  {
   "cell_type": "code",
   "execution_count": 3,
   "metadata": {},
   "outputs": [],
   "source": [
    "doctors_data = read_json_dataset('../doctors.json')\n",
    "# knowing that the consultation dataset will be large enough, droping na's won't affect the model.\n",
    "consultation_data = read_json_dataset('../consultation_data_.json').dropna()"
   ]
  },
  {
   "cell_type": "markdown",
   "metadata": {},
   "source": [
    "## Patient looks for a doctor inputing his data and doctor specialty"
   ]
  },
  {
   "cell_type": "code",
   "execution_count": 4,
   "metadata": {},
   "outputs": [],
   "source": [
    "patient_x = pd.DataFrame(pd.Series({\n",
    " 'Gender': 'F',\n",
    " 'Health Insurance - Plan': 'DOC300',\n",
    " 'Latitude': -22.880488,\n",
    " 'Longitude': -46.984614,\n",
    " 'Patient Age': 54.0,\n",
    " 'Specialty': 'DERMATOLOGISTA',\n",
    " 'State': 'SP'})).T"
   ]
  },
  {
   "cell_type": "markdown",
   "metadata": {},
   "source": [
    "## Get the suggested doctor"
   ]
  },
  {
   "cell_type": "code",
   "execution_count": 5,
   "metadata": {
    "scrolled": true
   },
   "outputs": [],
   "source": [
    "def find_doctor(patient):\n",
    "    doctor = calc_knn(consultation_data,patient)\n",
    "    return doctors_data[doctors_data['Doctor Code'] == doctor[0]]"
   ]
  },
  {
   "cell_type": "code",
   "execution_count": 6,
   "metadata": {},
   "outputs": [
    {
     "data": {
      "text/html": [
       "<div>\n",
       "<style scoped>\n",
       "    .dataframe tbody tr th:only-of-type {\n",
       "        vertical-align: middle;\n",
       "    }\n",
       "\n",
       "    .dataframe tbody tr th {\n",
       "        vertical-align: top;\n",
       "    }\n",
       "\n",
       "    .dataframe thead th {\n",
       "        text-align: right;\n",
       "    }\n",
       "</style>\n",
       "<table border=\"1\" class=\"dataframe\">\n",
       "  <thead>\n",
       "    <tr style=\"text-align: right;\">\n",
       "      <th></th>\n",
       "      <th>Doctor Code</th>\n",
       "      <th>Doctor Name</th>\n",
       "      <th>Doctor Telephone</th>\n",
       "      <th>Latitude</th>\n",
       "      <th>Longitude</th>\n",
       "      <th>Rating</th>\n",
       "      <th>Specialty</th>\n",
       "    </tr>\n",
       "  </thead>\n",
       "  <tbody>\n",
       "    <tr>\n",
       "      <th>2</th>\n",
       "      <td>53-CRM-11813</td>\n",
       "      <td>POLIANA GARCIA VIEIRA</td>\n",
       "      <td>+55 (61) 33311563</td>\n",
       "      <td>-22.90558</td>\n",
       "      <td>-47.06085</td>\n",
       "      <td>2</td>\n",
       "      <td>CIRURGIA</td>\n",
       "    </tr>\n",
       "  </tbody>\n",
       "</table>\n",
       "</div>"
      ],
      "text/plain": [
       "    Doctor Code            Doctor Name   Doctor Telephone  Latitude  \\\n",
       "2  53-CRM-11813  POLIANA GARCIA VIEIRA  +55 (61) 33311563 -22.90558   \n",
       "\n",
       "   Longitude  Rating Specialty  \n",
       "2  -47.06085       2  CIRURGIA  "
      ]
     },
     "execution_count": 6,
     "metadata": {},
     "output_type": "execute_result"
    }
   ],
   "source": [
    "find_doctor(patient_x)"
   ]
  }
 ],
 "metadata": {
  "kernelspec": {
   "display_name": "Python 3",
   "language": "python",
   "name": "python3"
  },
  "language_info": {
   "codemirror_mode": {
    "name": "ipython",
    "version": 3
   },
   "file_extension": ".py",
   "mimetype": "text/x-python",
   "name": "python",
   "nbconvert_exporter": "python",
   "pygments_lexer": "ipython3",
   "version": "3.7.1"
  }
 },
 "nbformat": 4,
 "nbformat_minor": 2
}
