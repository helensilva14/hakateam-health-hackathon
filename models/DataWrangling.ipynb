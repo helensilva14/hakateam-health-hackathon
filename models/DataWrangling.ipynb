{
 "cells": [
  {
   "cell_type": "code",
   "execution_count": 2,
   "metadata": {},
   "outputs": [],
   "source": [
    "import pandas as pd\n",
    "import numpy as np\n",
    "\n",
    "%matplotlib inline\n",
    "import matplotlib.pyplot as plt"
   ]
  },
  {
   "cell_type": "code",
   "execution_count": null,
   "metadata": {},
   "outputs": [],
   "source": [
    "def fsave(df,df_name):\n",
    "    writer = pd.ExcelWriter(\n",
    "        f'{df_name}.xlsx', engine='xlsxwriter')\n",
    "    df.to_excel(writer,sheet_name='ft')\n",
    "    writer.save()\n",
    "    print(f'{df_name}.xlsx has been saved sucessfully.')\n",
    "    \n",
    "    \n",
    "\n",
    "def check_miss(df):\n",
    "    vars_with_missing = []\n",
    "    vars_50_plus = []\n",
    "    for f in df.columns:\n",
    "        missings = df[f].isnull().sum()\n",
    "        if missings > 0:\n",
    "            vars_with_missing.append(f)\n",
    "            missings_perc = missings/df.shape[0]\n",
    "            \n",
    "            if missings_perc > 0.5:\n",
    "                vars_50_plus.append(f)\n",
    "                \n",
    "            #print('Variable {} has {} records ({:.2%}) with missing values'.format(f, missings, missings_perc))\n",
    "    \n",
    "    print('In total, there are {} variables with missing values'.format(len(vars_with_missing)))\n",
    "    print('In total, there are {} variables with more than 50% of missing values'.format(len(vars_50_plus)))\n",
    "    return vars_50_plus\n",
    "\n",
    "def imp(df):\n",
    "    print(f'Importing {df} dataframe')\n",
    "    df = pd.read_excel(df)\n",
    "    print(f'Imported {df} dataframe')\n",
    "    return df\n",
    "\n",
    "def check_distribution(df):\n",
    "    return ('\\n',df.info(),'\\n-Skewness:\\n',df.skew(),'\\n-Kurtosis\\n',df.kurtosis())\n",
    "\n",
    "\n"
   ]
  },
  {
   "cell_type": "code",
   "execution_count": null,
   "metadata": {},
   "outputs": [],
   "source": [
    "from sklearn.model_selection import train_test_split"
   ]
  },
  {
   "cell_type": "code",
   "execution_count": null,
   "metadata": {},
   "outputs": [],
   "source": []
  },
  {
   "cell_type": "code",
   "execution_count": null,
   "metadata": {},
   "outputs": [],
   "source": []
  },
  {
   "cell_type": "code",
   "execution_count": null,
   "metadata": {},
   "outputs": [],
   "source": []
  },
  {
   "cell_type": "code",
   "execution_count": null,
   "metadata": {},
   "outputs": [],
   "source": []
  },
  {
   "cell_type": "code",
   "execution_count": null,
   "metadata": {},
   "outputs": [],
   "source": []
  },
  {
   "cell_type": "code",
   "execution_count": null,
   "metadata": {},
   "outputs": [],
   "source": []
  },
  {
   "cell_type": "code",
   "execution_count": null,
   "metadata": {},
   "outputs": [],
   "source": []
  },
  {
   "cell_type": "code",
   "execution_count": null,
   "metadata": {},
   "outputs": [],
   "source": []
  },
  {
   "cell_type": "code",
   "execution_count": 4,
   "metadata": {},
   "outputs": [
    {
     "data": {
      "image/png": "[encoded data removed]",
      "text/plain": [
       "<Figure size 432x288 with 1 Axes>"
      ]
     },
     "metadata": {},
     "output_type": "display_data"
    }
   ],
   "source": [
    "#Kmeans:\n",
    "    \n",
    "from sklearn.cluster import KMeans\n",
    "                 \n",
    "np.random.seed(42)\n",
    "\n",
    "data = [1, 20, 40, 10,-20 ,10,1000,1200,980,995]\n",
    "data2 = np.random.randint(-3,10,10)\n",
    "#y = np.random.randint(-20,10,10)\n",
    "lists = [data,data2]#,y]\n",
    "\n",
    "h = pd.concat([pd.Series(x) for x in lists],axis=1)\n",
    "\n",
    "kmeans = KMeans(init='k-means++', n_clusters=2, n_init=10)\n",
    "kmeans.fit(h)\n",
    "\n",
    "x_min, x_max = (h.iloc[:, 0].min() - 1), (h.iloc[:, 0].max() + 1)\n",
    "y_min, y_max = (h.iloc[:, 1].min() - 1), (h.iloc[:, 1].max() + 1)\n",
    "dd = .02\n",
    "xx, yy = np.meshgrid(np.arange(x_min, x_max, dd), np.arange(y_min, y_max, dd))\n",
    "\n",
    "Z = kmeans.predict(np.c_[xx.ravel(), yy.ravel()])\n",
    "\n",
    "# Put the result into a color plot\n",
    "Z = Z.reshape(xx.shape)\n",
    "plt.figure(1)\n",
    "plt.clf()\n",
    "plt.imshow(Z, interpolation='nearest',\n",
    "           extent=(xx.min(), xx.max(), yy.min(), yy.max()),\n",
    "           cmap=plt.cm.Paired,\n",
    "           aspect='auto', origin='lower')\n",
    "\n",
    "plt.plot(h.iloc[:, 0], h.iloc[:, 1], 'k.', markersize=2)\n",
    "# Plot the centroids as a white X\n",
    "centroids = kmeans.cluster_centers_\n",
    "plt.scatter(centroids[:, 0], centroids[:, 1],\n",
    "            marker='x', s=169, linewidths=3,\n",
    "            color='w', zorder=10)\n",
    "plt.title('K-means clustering on the digits dataset (PCA-reduced data)\\n'\n",
    "          'Centroids are marked with white cross')\n",
    "plt.xlim(x_min, x_max)\n",
    "plt.ylim(y_min, y_max)\n",
    "plt.xticks(())\n",
    "plt.yticks(())\n",
    "plt.show()"
   ]
  },
  {
   "cell_type": "code",
   "execution_count": null,
   "metadata": {},
   "outputs": [],
   "source": []
  }
 ],
 "metadata": {
  "kernelspec": {
   "display_name": "Python 3",
   "language": "python",
   "name": "python3"
  },
  "language_info": {
   "codemirror_mode": {
    "name": "ipython",
    "version": 3
   },
   "file_extension": ".py",
   "mimetype": "text/x-python",
   "name": "python",
   "nbconvert_exporter": "python",
   "pygments_lexer": "ipython3",
   "version": "3.7.1"
  }
 },
 "nbformat": 4,
 "nbformat_minor": 2
}
